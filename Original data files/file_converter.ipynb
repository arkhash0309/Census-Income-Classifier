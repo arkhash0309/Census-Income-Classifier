{
 "cells": [
  {
   "cell_type": "code",
   "execution_count": 1,
   "metadata": {},
   "outputs": [],
   "source": [
    "import csv\n",
    "\n",
    "input_file_path = 'adult.data'\n",
    "output_file_path = 'adult.csv'\n",
    "\n",
    "delimiter = ','\n",
    "\n",
    "with open(input_file_path, 'r') as input_file, open(output_file_path, 'w', newline='') as output_file:\n",
    "    # Use the appropriate delimiter when creating the CSV writer\n",
    "    csv_writer = csv.writer(output_file, delimiter=delimiter)\n",
    "\n",
    "    for line in input_file:\n",
    "        # Process each line based on the file's format\n",
    "        # Example: If the data is space-separated, use line.split(' ')\n",
    "        # Update this part based on your file's structure\n",
    "        data = line.strip().split(delimiter)\n",
    "\n",
    "        # Write the data to the CSV file\n",
    "        csv_writer.writerow(data)"
   ]
  }
 ],
 "metadata": {
  "kernelspec": {
   "display_name": "base",
   "language": "python",
   "name": "python3"
  },
  "language_info": {
   "codemirror_mode": {
    "name": "ipython",
    "version": 3
   },
   "file_extension": ".py",
   "mimetype": "text/x-python",
   "name": "python",
   "nbconvert_exporter": "python",
   "pygments_lexer": "ipython3",
   "version": "3.11.5"
  }
 },
 "nbformat": 4,
 "nbformat_minor": 2
}
